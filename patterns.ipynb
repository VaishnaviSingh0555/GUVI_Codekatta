{
 "cells": [
  {
   "cell_type": "code",
   "execution_count": 1,
   "metadata": {},
   "outputs": [
    {
     "name": "stdout",
     "output_type": "stream",
     "text": [
      "5\n",
      "1\n",
      "12\n",
      "1 3\n",
      "1  4\n",
      "12345\n"
     ]
    }
   ],
   "source": [
    "def pattern(n):\n",
    "    for i in range(1, n+1):\n",
    "        a = ''\n",
    "        if i == 1:\n",
    "            a += str(i)\n",
    "        elif i == n:\n",
    "            for i in range(1, n+1):\n",
    "                a += str(i)\n",
    "        else:\n",
    "            a += '1'\n",
    "            a += ' '*(i-2)\n",
    "            a += str(i)\n",
    "        print(a)\n",
    "\n",
    "n = int(input())\n",
    "pattern(n)"
   ]
  },
  {
   "cell_type": "code",
   "execution_count": 3,
   "metadata": {},
   "outputs": [
    {
     "name": "stdout",
     "output_type": "stream",
     "text": [
      "5\n",
      "12345\n",
      "1234\n",
      "123\n",
      "12\n",
      "1\n"
     ]
    }
   ],
   "source": [
    "def pattern(n):\n",
    "    for i in range(n):\n",
    "        for j in range(n-i):\n",
    "            print(j+1, end = \"\")\n",
    "        print()\n",
    "n = int(input())\n",
    "pattern(n)"
   ]
  },
  {
   "cell_type": "code",
   "execution_count": 5,
   "metadata": {},
   "outputs": [
    {
     "name": "stdout",
     "output_type": "stream",
     "text": [
      "5\n",
      "12345\n",
      "4321\n",
      "123\n",
      "21\n",
      "1\n"
     ]
    }
   ],
   "source": [
    "def pattern(n):\n",
    "    for i in range(n):\n",
    "        if i % 2 == 0:\n",
    "            for j in range(n-i):\n",
    "                print(j+1, end = \"\")\n",
    "        else:\n",
    "            for j in range(n-i, 0, -1):\n",
    "                print(j, end = \"\")\n",
    "        print()\n",
    "n = int(input())\n",
    "pattern(n)"
   ]
  },
  {
   "cell_type": "code",
   "execution_count": 99,
   "metadata": {},
   "outputs": [
    {
     "name": "stdout",
     "output_type": "stream",
     "text": [
      "5\n",
      "*  *  *  *  *\n",
      "*  *  *  *\n",
      "*  *  *\n",
      "*  *\n",
      "*\n"
     ]
    }
   ],
   "source": [
    "def pattern(n):\n",
    "    for i in range(n):\n",
    "        a = []\n",
    "        for j in range(n-i):\n",
    "            a.append('*')\n",
    "        print('  '.join(a))\n",
    "\n",
    "n = int(input())\n",
    "pattern(n)"
   ]
  },
  {
   "cell_type": "code",
   "execution_count": 1,
   "metadata": {},
   "outputs": [
    {
     "name": "stdout",
     "output_type": "stream",
     "text": [
      "6\n",
      "     *\n",
      "    **\n",
      "   ***\n",
      "  ****\n",
      " *****\n",
      "******\n"
     ]
    }
   ],
   "source": [
    "def pattern(n):\n",
    "    for i in range(1, n+1):\n",
    "        for j in range(n - i):\n",
    "            print(\" \", end = \"\")\n",
    "        for j in range(i):\n",
    "            print(\"*\", end = \"\")\n",
    "        print()\n",
    "\n",
    "n = int(input())\n",
    "pattern(n)"
   ]
  },
  {
   "cell_type": "code",
   "execution_count": 4,
   "metadata": {},
   "outputs": [
    {
     "name": "stdout",
     "output_type": "stream",
     "text": [
      "5\n",
      "1\n",
      "2 3\n",
      "4 5 6\n",
      "7 8 9 10\n",
      "11 12 13 14 15\n"
     ]
    }
   ],
   "source": [
    "def pattern(n):\n",
    "    a = 1\n",
    "    for i in range(1, n+1):\n",
    "        l = []\n",
    "        for j in range(i):\n",
    "            l.append(a)\n",
    "            a += 1\n",
    "        print(*l)\n",
    "\n",
    "n = int(input())\n",
    "pattern(n)"
   ]
  },
  {
   "cell_type": "code",
   "execution_count": 5,
   "metadata": {},
   "outputs": [
    {
     "name": "stdout",
     "output_type": "stream",
     "text": [
      "5\n",
      "12345\n",
      "1  4\n",
      "1 3\n",
      "12\n",
      "1\n"
     ]
    }
   ],
   "source": [
    "def pattern(n):\n",
    "    for i in range(n, 0, -1):\n",
    "        a = ''\n",
    "        if i == 1:\n",
    "            a += str(i)\n",
    "        elif i == n:\n",
    "            for i in range(1, n+1):\n",
    "                a += str(i)\n",
    "        else:\n",
    "            a += '1'\n",
    "            a += ' '*(i-2)\n",
    "            a += str(i)\n",
    "        print(a)\n",
    "\n",
    "n = int(input())\n",
    "pattern(n)"
   ]
  },
  {
   "cell_type": "code",
   "execution_count": 9,
   "metadata": {},
   "outputs": [
    {
     "name": "stdout",
     "output_type": "stream",
     "text": [
      "3 5\n",
      "* * * * *\n",
      "*       *\n",
      "* * * * *\n"
     ]
    }
   ],
   "source": [
    "def pattern(r, c):\n",
    "    for i in range(1, r+1):\n",
    "        l = []\n",
    "        if i == 1 or i == r:\n",
    "            for j in range(c):\n",
    "                l.append('*')\n",
    "        else:\n",
    "            l.append('*')\n",
    "            for j in range(1, c-1):\n",
    "                l.append(' ')\n",
    "            l.append('*')\n",
    "        print(*l)\n",
    "\n",
    "r, c = map(int, input().split())\n",
    "pattern(r, c)"
   ]
  },
  {
   "cell_type": "code",
   "execution_count": 10,
   "metadata": {},
   "outputs": [
    {
     "name": "stdout",
     "output_type": "stream",
     "text": [
      "3 5\n",
      "* * * * *\n",
      "* * * * *\n",
      "* * * * *\n"
     ]
    }
   ],
   "source": [
    "def pattern(r, c):\n",
    "    for i in range(1, r+1):\n",
    "        l = []\n",
    "        for j in range(c):\n",
    "            l.append('*')\n",
    "        print(*l)\n",
    "\n",
    "r, c = map(int, input().split())\n",
    "pattern(r, c)"
   ]
  },
  {
   "cell_type": "code",
   "execution_count": 11,
   "metadata": {},
   "outputs": [
    {
     "name": "stdout",
     "output_type": "stream",
     "text": [
      "5\n",
      "    *\n",
      "   * *\n",
      "  *   *\n",
      " *     *\n",
      "* * * * *\n"
     ]
    }
   ],
   "source": [
    "def pattern(n):\n",
    "    for i in range(1, n+1):\n",
    "        for j in range(n-i):\n",
    "            print(' ', end = \"\")\n",
    "        l = []\n",
    "        if i == 1:\n",
    "            l.append('*')\n",
    "        elif i == n:\n",
    "            for j in range(n):\n",
    "                l.append('*')\n",
    "        else:\n",
    "            l.append('*')\n",
    "            for j in range(i-2):\n",
    "                l.append(' ')\n",
    "            l.append('*')\n",
    "        print(*l)\n",
    "        \n",
    "n = int(input())\n",
    "pattern(n)"
   ]
  },
  {
   "cell_type": "code",
   "execution_count": 12,
   "metadata": {},
   "outputs": [
    {
     "name": "stdout",
     "output_type": "stream",
     "text": [
      "5\n",
      "1\n",
      "22\n",
      "333\n",
      "4444\n",
      "55555\n"
     ]
    }
   ],
   "source": [
    "def pattern(n):\n",
    "    for i in range(1, n+1):\n",
    "        a = str(i)*i\n",
    "        print(a)\n",
    "        \n",
    "n = int(input())\n",
    "pattern(n)"
   ]
  },
  {
   "cell_type": "code",
   "execution_count": 13,
   "metadata": {},
   "outputs": [
    {
     "name": "stdout",
     "output_type": "stream",
     "text": [
      "5\n",
      "11111\n",
      "11111\n",
      "11111\n",
      "11111\n",
      "11111\n"
     ]
    }
   ],
   "source": [
    "def pattern(n):\n",
    "    for i in range(n):\n",
    "        print('1'*n)\n",
    "\n",
    "n = int(input())\n",
    "pattern(n)"
   ]
  },
  {
   "cell_type": "code",
   "execution_count": 26,
   "metadata": {},
   "outputs": [
    {
     "name": "stdout",
     "output_type": "stream",
     "text": [
      "5\n",
      "*\n",
      "**\n",
      "***\n",
      "****\n",
      "*****\n",
      "****\n",
      "***\n",
      "**\n",
      "*\n"
     ]
    }
   ],
   "source": [
    "def pattern(n):\n",
    "    for i in range(1, n+1):\n",
    "        l = []\n",
    "        for j in range(i):\n",
    "            l.append('*')\n",
    "        print(''.join(l))\n",
    "    for i in range(1, n):\n",
    "        l = []\n",
    "        for j in range(n-i):\n",
    "            l.append('*')\n",
    "        print(''.join(l))\n",
    "        \n",
    "n = int(input())\n",
    "pattern(n)"
   ]
  },
  {
   "cell_type": "code",
   "execution_count": 29,
   "metadata": {},
   "outputs": [
    {
     "name": "stdout",
     "output_type": "stream",
     "text": [
      "5\n",
      "bbbb*bbbb\n",
      "bbb***bbb\n",
      "bb*****bb\n",
      "b*******b\n",
      "*********\n"
     ]
    }
   ],
   "source": [
    "def pattern(n):\n",
    "    for i in range(1, n+1):\n",
    "        l = []\n",
    "        for j in range(n-i):\n",
    "            l.append('b')\n",
    "        for j in range(2*(i-1)+1):\n",
    "            l.append('*')\n",
    "        for j in range(n-i):\n",
    "            l.append('b')\n",
    "        print(''.join(l))\n",
    "\n",
    "n = int(input())\n",
    "pattern(n)"
   ]
  },
  {
   "cell_type": "code",
   "execution_count": 31,
   "metadata": {},
   "outputs": [
    {
     "name": "stdout",
     "output_type": "stream",
     "text": [
      "5\n",
      "12345\n",
      "1234\n",
      "123\n",
      "12\n",
      "1\n"
     ]
    }
   ],
   "source": [
    "def pattern(n):\n",
    "    for i in range(n, 0, -1):\n",
    "        for j in range(1, i+1):\n",
    "            print(j, end = '')\n",
    "        print()\n",
    "\n",
    "n = int(input())\n",
    "pattern(n)"
   ]
  },
  {
   "cell_type": "code",
   "execution_count": 32,
   "metadata": {},
   "outputs": [
    {
     "name": "stdout",
     "output_type": "stream",
     "text": [
      "5\n",
      "*********\n",
      "b*******b\n",
      "bb*****bb\n",
      "bbb***bbb\n",
      "bbbb*bbbb\n"
     ]
    }
   ],
   "source": [
    "def pattern(n):\n",
    "    for i in range(n):\n",
    "        l = []\n",
    "        for j in range(i):\n",
    "            l.append('b')\n",
    "        for j in range(2*(n-i)-1):\n",
    "            l.append('*')        \n",
    "        for j in range(i):\n",
    "            l.append('b')\n",
    "        print(''.join(l))\n",
    "        \n",
    "n = int(input())\n",
    "pattern(n)"
   ]
  },
  {
   "cell_type": "code",
   "execution_count": 35,
   "metadata": {},
   "outputs": [
    {
     "name": "stdout",
     "output_type": "stream",
     "text": [
      "9\n",
      "bbbb*bbbb\n",
      "bbb***bbb\n",
      "bb*****bb\n",
      "b*******b\n",
      "*********\n",
      "b*******b\n",
      "bb*****bb\n",
      "bbb***bbb\n",
      "bbbb*bbbb\n"
     ]
    }
   ],
   "source": [
    "def pattern(n):\n",
    "    for i in range(1, n):\n",
    "        l = []\n",
    "        for j in range(n-i):\n",
    "            l.append('b')\n",
    "        for j in range(2*(i-1)+1):\n",
    "            l.append('*')\n",
    "        for j in range(n-i):\n",
    "            l.append('b')\n",
    "        print(''.join(l))\n",
    "    for i in range(n):\n",
    "        l = []\n",
    "        for j in range(i):\n",
    "            l.append('b')\n",
    "        for j in range(2*(n-i)-1):\n",
    "            l.append('*')        \n",
    "        for j in range(i):\n",
    "            l.append('b')\n",
    "        print(''.join(l))\n",
    "        \n",
    "n = int(input())\n",
    "pattern((n+1)//2)"
   ]
  },
  {
   "cell_type": "code",
   "execution_count": 38,
   "metadata": {},
   "outputs": [
    {
     "name": "stdout",
     "output_type": "stream",
     "text": [
      "4\n",
      "1234567\n",
      "12345\n",
      "123\n",
      "1\n"
     ]
    }
   ],
   "source": [
    "def pattern(n):\n",
    "    for i in range(n, 0, -1):\n",
    "        l = []\n",
    "        for j in range(1, (2*i)):\n",
    "            l.append(str(j))\n",
    "        print(''.join(l))\n",
    "        \n",
    "n = int(input())\n",
    "pattern(n)"
   ]
  },
  {
   "cell_type": "code",
   "execution_count": 42,
   "metadata": {},
   "outputs": [
    {
     "name": "stdout",
     "output_type": "stream",
     "text": [
      "7\n",
      "M F F F F F M\n",
      "F M C C C M F\n",
      "F C M C M C F\n",
      "F C C M C C F\n",
      "F C M C M C F\n",
      "F M C C C M F\n",
      "M F F F F F M\n"
     ]
    }
   ],
   "source": [
    "def pattern(n):\n",
    "    for i in range(n):\n",
    "        l = []\n",
    "        for j in range(n):\n",
    "            if i == j or i+j == n-1:\n",
    "                l.append('M')\n",
    "            elif i == 0 or j == 0 or i == n-1 or j == n-1:\n",
    "                l.append('F')\n",
    "            else:\n",
    "                l.append('C')\n",
    "        print(*l)\n",
    "        \n",
    "n = int(input())\n",
    "pattern(n)"
   ]
  },
  {
   "cell_type": "code",
   "execution_count": 46,
   "metadata": {},
   "outputs": [
    {
     "name": "stdout",
     "output_type": "stream",
     "text": [
      "5\n",
      "55555\n",
      "4444\n",
      "333\n",
      "22\n",
      "1\n"
     ]
    }
   ],
   "source": [
    "def pattern(n):\n",
    "    for i in range(5, 0, -1):\n",
    "        l = []\n",
    "        for j in range(i):\n",
    "            l.append(str(i))\n",
    "        print(''.join(l))\n",
    "\n",
    "n = int(input())\n",
    "pattern(n)"
   ]
  },
  {
   "cell_type": "code",
   "execution_count": 50,
   "metadata": {},
   "outputs": [
    {
     "name": "stdout",
     "output_type": "stream",
     "text": [
      "5\n",
      "*****\n",
      " ****\n",
      "  ***\n",
      "   **\n",
      "    *\n"
     ]
    }
   ],
   "source": [
    "def pattern(n):\n",
    "    for i in range(n):\n",
    "        l = []\n",
    "        for j in range(i):\n",
    "            l.append(' ')\n",
    "        for j in range(n-i):\n",
    "            l.append('*')\n",
    "        print(''.join(l))\n",
    "        \n",
    "n = int(input())\n",
    "pattern(n)"
   ]
  },
  {
   "cell_type": "code",
   "execution_count": 51,
   "metadata": {},
   "outputs": [
    {
     "name": "stdout",
     "output_type": "stream",
     "text": [
      "5\n",
      "* * * * *\n",
      " * * * *\n",
      "  * * *\n",
      "   * *\n",
      "    *\n"
     ]
    }
   ],
   "source": [
    "def pattern(n):\n",
    "    for i in range(n):\n",
    "        for j in range(i):\n",
    "            print(' ', end = \"\")\n",
    "        l = []\n",
    "        for j in range(n-i):\n",
    "            l.append('*')\n",
    "        print(' '.join(l))\n",
    "        \n",
    "n = int(input())\n",
    "pattern(n)"
   ]
  },
  {
   "cell_type": "code",
   "execution_count": 59,
   "metadata": {},
   "outputs": [
    {
     "name": "stdout",
     "output_type": "stream",
     "text": [
      "10\n",
      "**********\n",
      "****bb****\n",
      "***bbbb***\n",
      "**bbbbbb**\n",
      "*bbbbbbbb*\n",
      "**bbbbbb**\n",
      "***bbbb***\n",
      "****bb****\n",
      "**********\n"
     ]
    }
   ],
   "source": [
    "def pattern(n):\n",
    "    for i in range(n-1):\n",
    "        l = []\n",
    "        for j in range(n-i):\n",
    "            l.append('*')\n",
    "        for j in range(2*i):\n",
    "            l.append('b')\n",
    "        for j in range(n-i):\n",
    "            l.append('*')\n",
    "        print(''.join(l))\n",
    "        \n",
    "    for i in range(1, n+1):\n",
    "        l = []\n",
    "        for j in range(i):\n",
    "            l.append('*')\n",
    "        for j in range(2*(n-i)):\n",
    "            l.append('b')\n",
    "        for j in range(i):\n",
    "            l.append('*')\n",
    "        print(''.join(l))\n",
    "        \n",
    "n = int(input())\n",
    "pattern(n//2)"
   ]
  },
  {
   "cell_type": "code",
   "execution_count": 61,
   "metadata": {},
   "outputs": [
    {
     "name": "stdout",
     "output_type": "stream",
     "text": [
      "5\n",
      "1\n",
      "12\n",
      "123\n",
      "1234\n",
      "12345\n"
     ]
    }
   ],
   "source": [
    "def pattern(n):\n",
    "    for i in range(1, n+1):\n",
    "        l = []\n",
    "        for j in range(1, i+1):\n",
    "            l.append(str(j))\n",
    "        print(''.join(l))\n",
    "        \n",
    "n = int(input())\n",
    "pattern(n)"
   ]
  },
  {
   "cell_type": "code",
   "execution_count": 63,
   "metadata": {},
   "outputs": [
    {
     "name": "stdout",
     "output_type": "stream",
     "text": [
      "5\n",
      "5\n",
      "45\n",
      "345\n",
      "2345\n",
      "12345\n"
     ]
    }
   ],
   "source": [
    "def pattern(n):\n",
    "    for i in range(n, 0, -1):\n",
    "        l = []\n",
    "        for j in range(i, n+1):\n",
    "            l.append(str(j))\n",
    "        print(''.join(l))\n",
    "        \n",
    "n = int(input())\n",
    "pattern(n)"
   ]
  },
  {
   "cell_type": "code",
   "execution_count": 64,
   "metadata": {},
   "outputs": [
    {
     "name": "stdout",
     "output_type": "stream",
     "text": [
      "5\n",
      "*\n",
      "* *\n",
      "* * *\n",
      "* * * *\n",
      "* * * * *\n"
     ]
    }
   ],
   "source": [
    "def pattern(n):\n",
    "    for i in range(1, n+1):\n",
    "        l = []\n",
    "        for j in range(i):\n",
    "            l.append('*')\n",
    "        print(*l)\n",
    "        \n",
    "n = int(input())\n",
    "pattern(n)"
   ]
  },
  {
   "cell_type": "code",
   "execution_count": 77,
   "metadata": {},
   "outputs": [
    {
     "name": "stdout",
     "output_type": "stream",
     "text": [
      "5\n",
      "    1\n",
      "   232\n",
      "  34543\n",
      " 4567654\n",
      "567898765\n"
     ]
    }
   ],
   "source": [
    "def pattern(n):\n",
    "    for i in range(1, n+1):\n",
    "        for j in range(n-i):\n",
    "            print(' ', end = \"\")\n",
    "        l = []\n",
    "        for j in range(i, (2*i)):\n",
    "            l.append(str(j))\n",
    "        for j in range((2*i)-2, i-1, -1):\n",
    "            l.append(str(j))\n",
    "        print(''.join(l))\n",
    "        \n",
    "n = int(input())\n",
    "pattern(n)"
   ]
  },
  {
   "cell_type": "code",
   "execution_count": 80,
   "metadata": {},
   "outputs": [
    {
     "name": "stdout",
     "output_type": "stream",
     "text": [
      "5\n",
      "13579\n",
      "3579\n",
      "579\n",
      "79\n",
      "9\n"
     ]
    }
   ],
   "source": [
    "def pattern(n):\n",
    "    for i in range(1, (2*n), 2):\n",
    "        l = []\n",
    "        for j in range(i, 2*n, 2):\n",
    "            l.append(str(j))\n",
    "        print(''.join(l))\n",
    "    \n",
    "n = int(input())\n",
    "pattern(n)"
   ]
  },
  {
   "cell_type": "code",
   "execution_count": 4,
   "metadata": {},
   "outputs": [
    {
     "name": "stdout",
     "output_type": "stream",
     "text": [
      "5\n",
      "EDCBA\n",
      "EDCB\n",
      "EDC\n",
      "ED\n",
      "E\n"
     ]
    }
   ],
   "source": [
    "def pattern(n):\n",
    "    let = 65\n",
    "    for i in range(n):\n",
    "        for j in range(n-1, i-1, -1):\n",
    "            print(chr(let+j), end = \"\")\n",
    "        print()\n",
    "        \n",
    "n = int(input())\n",
    "pattern(n)"
   ]
  },
  {
   "cell_type": "code",
   "execution_count": 5,
   "metadata": {},
   "outputs": [
    {
     "name": "stdout",
     "output_type": "stream",
     "text": [
      "5\n",
      "*****\n",
      "b****\n",
      "bb***\n",
      "bbb**\n",
      "bbbb*\n"
     ]
    }
   ],
   "source": [
    "def pattern(n):\n",
    "    for i in range(n):\n",
    "        for j in range(i):\n",
    "            print('b', end = \"\")\n",
    "        for j in range(n-i):\n",
    "            print('*', end = \"\")\n",
    "        print()\n",
    "        \n",
    "n = int(input())\n",
    "pattern(n)"
   ]
  },
  {
   "cell_type": "code",
   "execution_count": 6,
   "metadata": {},
   "outputs": [
    {
     "name": "stdout",
     "output_type": "stream",
     "text": [
      "3\n",
      "*\n",
      "*1*\n",
      "*121*\n",
      "*12321*\n",
      "*121*\n",
      "*1*\n",
      "*\n"
     ]
    }
   ],
   "source": [
    "def pattern(n):\n",
    "    print('*')\n",
    "    for i in range(1, n+1):\n",
    "        l = []\n",
    "        l.append('*')\n",
    "        for j in range(1, i+1):\n",
    "            l.append(str(j))\n",
    "        for j in range(i-1, 0, -1):\n",
    "            l.append(str(j))\n",
    "        l.append('*')\n",
    "        print(''.join(l))\n",
    "    for i in range(n-1, 0, -1):\n",
    "        l = []\n",
    "        l.append('*')\n",
    "        for j in range(1, i+1):\n",
    "            l.append(str(j))\n",
    "        for j in range(i-1, 0, -1):\n",
    "            l.append(str(j))\n",
    "        l.append('*')\n",
    "        print(''.join(l))\n",
    "    print('*')\n",
    "    \n",
    "n = int(input())\n",
    "pattern(n)"
   ]
  },
  {
   "cell_type": "code",
   "execution_count": 8,
   "metadata": {},
   "outputs": [
    {
     "name": "stdout",
     "output_type": "stream",
     "text": [
      "5\n",
      "    A\n",
      "   A B\n",
      "  A B C\n",
      " A B C D\n",
      "A B C D E\n"
     ]
    }
   ],
   "source": [
    "def pattern(n):\n",
    "    c = 65\n",
    "    l = []\n",
    "    for i in range(n):\n",
    "        for j in range(n-i-1):\n",
    "            print(' ', end = \"\")\n",
    "        l.append(chr(c + i))\n",
    "        print(*l)\n",
    "        \n",
    "n = int(input())\n",
    "pattern(n)"
   ]
  },
  {
   "cell_type": "code",
   "execution_count": 13,
   "metadata": {},
   "outputs": [
    {
     "name": "stdout",
     "output_type": "stream",
     "text": [
      "5\n",
      "1\n",
      "24\n",
      "135\n",
      "2468\n",
      "13579\n"
     ]
    }
   ],
   "source": [
    "def pattern(n):\n",
    "    o = ['1']\n",
    "    e = ['2']\n",
    "    for i in range(1, n+1):\n",
    "        if i % 2 == 1:\n",
    "            print(''.join(o))\n",
    "        else:\n",
    "            print(''.join(e))\n",
    "        o.append(str(int(o[-1]) + 2))\n",
    "        e.append(str(int(e[-1]) + 2))\n",
    "            \n",
    "n = int(input())\n",
    "pattern(n)"
   ]
  },
  {
   "cell_type": "code",
   "execution_count": 18,
   "metadata": {},
   "outputs": [
    {
     "name": "stdout",
     "output_type": "stream",
     "text": [
      "abcdef\n",
      "abcdef\n",
      "b    e\n",
      "c    d\n",
      "d    c\n",
      "e    b\n",
      "fedcba\n"
     ]
    }
   ],
   "source": [
    "def pattern(s):\n",
    "    n = len(s)\n",
    "    print(s)\n",
    "    for i in range(1, n-1):\n",
    "        res = s[i]\n",
    "        res += ' '*(n-2)\n",
    "        res += s[n-i-1]\n",
    "        print(res)\n",
    "    print(s[::-1])\n",
    "    \n",
    "s = input()\n",
    "pattern(s)"
   ]
  },
  {
   "cell_type": "code",
   "execution_count": 27,
   "metadata": {},
   "outputs": [
    {
     "name": "stdout",
     "output_type": "stream",
     "text": [
      "5\n",
      "5 5 5 5 5\n",
      "4 5 5 5 5\n",
      "3 4 5 5 5\n",
      "2 3 4 5 5\n",
      "1 2 3 4 5\n"
     ]
    }
   ],
   "source": [
    "def pattern(n):\n",
    "    for i in range(1, n+1):\n",
    "        l = []\n",
    "        for j in range(n-i+1, n+1):\n",
    "            l.append(j)\n",
    "        for j in range(n-i):\n",
    "            l.append(n)\n",
    "        print(*l)\n",
    "        \n",
    "n = int(input())\n",
    "pattern(n)"
   ]
  },
  {
   "cell_type": "code",
   "execution_count": 31,
   "metadata": {},
   "outputs": [
    {
     "name": "stdout",
     "output_type": "stream",
     "text": [
      "5\n",
      "*\n",
      " *\n",
      "  *\n",
      "   *\n",
      "*****\n",
      "   *\n",
      "  *\n",
      " *\n",
      "*\n"
     ]
    }
   ],
   "source": [
    "def pattern(n):\n",
    "    for i in range(n-1):\n",
    "        for j in range(i):\n",
    "            print(' ', end = \"\")\n",
    "        print('*')\n",
    "    print('*' * n)\n",
    "    for i in range(n-2, -1, -1):\n",
    "        for j in range(i):\n",
    "            print(' ', end = \"\")\n",
    "        print('*')\n",
    "n = int(input())\n",
    "pattern(n)"
   ]
  },
  {
   "cell_type": "code",
   "execution_count": 33,
   "metadata": {},
   "outputs": [
    {
     "name": "stdout",
     "output_type": "stream",
     "text": [
      "5\n",
      "    A\n",
      "   ABA\n",
      "  ABCAB\n",
      " ABCDABC\n",
      "ABCDEABCD\n"
     ]
    }
   ],
   "source": [
    "def pattern(n):\n",
    "    c = 65\n",
    "    for i in range(1, n+1):\n",
    "        for j in range(n-i):\n",
    "            print(' ', end = \"\")\n",
    "        for j in range(i):\n",
    "            print(chr(c+j), end = \"\")\n",
    "        for j in range(i-1):\n",
    "            print(chr(c+j), end = \"\")\n",
    "        print()\n",
    "n = int(input())\n",
    "pattern(n)"
   ]
  },
  {
   "cell_type": "code",
   "execution_count": 34,
   "metadata": {},
   "outputs": [
    {
     "name": "stdout",
     "output_type": "stream",
     "text": [
      "5\n",
      "54321\n",
      "4321\n",
      "321\n",
      "21\n",
      "1\n"
     ]
    }
   ],
   "source": [
    "def pattern(n):\n",
    "    for i in range(n, 0, -1):\n",
    "        for j in range(i, 0, -1):\n",
    "            print(j, end = \"\")\n",
    "        print()\n",
    "n = int(input())\n",
    "pattern(n)"
   ]
  },
  {
   "cell_type": "code",
   "execution_count": 35,
   "metadata": {},
   "outputs": [
    {
     "name": "stdout",
     "output_type": "stream",
     "text": [
      "5\n",
      "    A\n",
      "   ABC\n",
      "  ABCDE\n",
      " ABCDEFG\n",
      "ABCDEFGHI\n"
     ]
    }
   ],
   "source": [
    "def pattern(n):\n",
    "    c = 65\n",
    "    for i in range(1, n+1):\n",
    "        for j in range(n-i):\n",
    "            print(' ', end = \"\")\n",
    "        for j in range(2*i - 1):\n",
    "            print(chr(c+j), end = \"\")\n",
    "        print()\n",
    "n = int(input())\n",
    "pattern(n)"
   ]
  },
  {
   "cell_type": "code",
   "execution_count": 36,
   "metadata": {},
   "outputs": [
    {
     "name": "stdout",
     "output_type": "stream",
     "text": [
      "5\n",
      "    A\n",
      "   CCC\n",
      "  EEEEE\n",
      " GGGGGGG\n",
      "IIIIIIIII\n"
     ]
    }
   ],
   "source": [
    "def pattern(n):\n",
    "    c = 65\n",
    "    for i in range(1, n+1):\n",
    "        for j in range(n-i):\n",
    "            print(' ', end = \"\")\n",
    "        for j in range(2*i - 1):\n",
    "            print(chr(c), end = \"\")\n",
    "        print()\n",
    "        c += 2\n",
    "n = int(input())\n",
    "pattern(n)"
   ]
  },
  {
   "cell_type": "code",
   "execution_count": 39,
   "metadata": {},
   "outputs": [
    {
     "name": "stdout",
     "output_type": "stream",
     "text": [
      "5\n",
      "    *\n",
      "   *\n",
      "  *\n",
      " *\n",
      "*****\n",
      " *\n",
      "  *\n",
      "   *\n",
      "    *\n"
     ]
    }
   ],
   "source": [
    "def pattern(n):\n",
    "    for i in range(n-1):\n",
    "        for j in range(n-i-1):\n",
    "            print(' ', end = \"\")\n",
    "        print('*')\n",
    "    print('*' * n)\n",
    "    for i in range(n-2, -1, -1):\n",
    "        for j in range(n-i-1):\n",
    "            print(' ', end = \"\")\n",
    "        print('*')\n",
    "n = int(input())\n",
    "pattern(n)"
   ]
  },
  {
   "cell_type": "code",
   "execution_count": 45,
   "metadata": {},
   "outputs": [
    {
     "name": "stdout",
     "output_type": "stream",
     "text": [
      "4\n",
      "   ****\n",
      "  ****\n",
      " ****\n",
      "****\n"
     ]
    }
   ],
   "source": [
    "def pattern(n):\n",
    "    for i in range(n):\n",
    "        for j in range(n-i-1):\n",
    "            print(' ', end = \"\")\n",
    "        print('*' * n)\n",
    "n = int(input())\n",
    "pattern(n)"
   ]
  },
  {
   "cell_type": "code",
   "execution_count": 52,
   "metadata": {},
   "outputs": [
    {
     "name": "stdout",
     "output_type": "stream",
     "text": [
      "5\n",
      "    1\n",
      "   1 2\n",
      "  1   3\n",
      " 1     4\n",
      "1 2 3 4 5\n"
     ]
    }
   ],
   "source": [
    "def pattern(n):\n",
    "    for i in range(1, n+1):\n",
    "        for j in range(n-i):\n",
    "            print(' ', end = \"\")\n",
    "        if i == 1:\n",
    "            print(1)\n",
    "        elif i == n:\n",
    "            l = []\n",
    "            for j in range(1, n+1):\n",
    "                l.append(j)\n",
    "            print(*l)\n",
    "        else:\n",
    "            l = ['1']\n",
    "            for j in range(1, i-1):\n",
    "                l.append(' ')\n",
    "            l.append(str(i))\n",
    "            print(*l)\n",
    "n = int(input())\n",
    "pattern(n)"
   ]
  },
  {
   "cell_type": "code",
   "execution_count": 55,
   "metadata": {},
   "outputs": [
    {
     "name": "stdout",
     "output_type": "stream",
     "text": [
      "5\n",
      "    A\n",
      "   BAB\n",
      "  CBABC\n",
      " DCBABCD\n",
      "EDCBABCDE\n"
     ]
    }
   ],
   "source": [
    "def pattern(n):\n",
    "    c = 65\n",
    "    for i in range(n):\n",
    "        for j in range(n-i-1):\n",
    "            print(' ', end = \"\")\n",
    "            \n",
    "        for j in range(i, -1, -1):\n",
    "            print(chr(c+j), end = \"\")\n",
    "        for j in range(1, i+1):\n",
    "            print(chr(c+j), end = \"\")\n",
    "        print()\n",
    "n = int(input())\n",
    "pattern(n)"
   ]
  },
  {
   "cell_type": "code",
   "execution_count": 56,
   "metadata": {},
   "outputs": [
    {
     "name": "stdout",
     "output_type": "stream",
     "text": [
      "5\n",
      "    *\n",
      "   * *\n",
      "  * * *\n",
      " * * * *\n",
      "* * * * *\n"
     ]
    }
   ],
   "source": [
    "def pattern(n):\n",
    "    c = 65\n",
    "    for i in range(1, n+1):\n",
    "        for j in range(n-i):\n",
    "            print(' ', end = \"\")\n",
    "        l = []\n",
    "        for j in range(i):\n",
    "            l.append('*')\n",
    "        print(*l)\n",
    "n = int(input())\n",
    "pattern(n)"
   ]
  },
  {
   "cell_type": "code",
   "execution_count": 58,
   "metadata": {},
   "outputs": [
    {
     "name": "stdout",
     "output_type": "stream",
     "text": [
      "10\n",
      "1\n",
      "2 4\n",
      "3 6 9\n",
      "4 8 12 16\n",
      "5 10 15 20 25\n",
      "6 12 18 24 30 36\n",
      "7 14 21 28 35 42 49\n",
      "8 16 24 32 40 48 56 64\n",
      "9 18 27 36 45 54 63 72 81\n",
      "10 20 30 40 50 60 70 80 90 100\n"
     ]
    }
   ],
   "source": [
    "def pattern(n):\n",
    "    for i in range(1, n+1):\n",
    "        l = []\n",
    "        for j in range(1, i+1):\n",
    "            l.append(i*j)\n",
    "        print(*l)\n",
    "        \n",
    "n = int(input())\n",
    "pattern(n)"
   ]
  },
  {
   "cell_type": "code",
   "execution_count": 59,
   "metadata": {},
   "outputs": [
    {
     "name": "stdout",
     "output_type": "stream",
     "text": [
      "5\n",
      "    0\n",
      "   101\n",
      "  21012\n",
      " 3210123\n",
      "432101234\n"
     ]
    }
   ],
   "source": [
    "def pattern(n):\n",
    "    for i in range(n):\n",
    "        for j in range(n-i-1):\n",
    "            print(' ', end = \"\")\n",
    "            \n",
    "        for j in range(i, -1, -1):\n",
    "            print(j, end = \"\")\n",
    "        for j in range(1, i+1):\n",
    "            print(j, end = \"\")\n",
    "        print()\n",
    "n = int(input())\n",
    "pattern(n)"
   ]
  },
  {
   "cell_type": "code",
   "execution_count": 61,
   "metadata": {},
   "outputs": [
    {
     "name": "stdout",
     "output_type": "stream",
     "text": [
      "5\n",
      "1\n",
      "1 4\n",
      "1 4 9\n",
      "1 4 9 16\n",
      "1 4 9 16 25\n",
      "1 4 9 16\n",
      "1 4 9\n",
      "1 4\n",
      "1\n"
     ]
    }
   ],
   "source": [
    "def pattern(n):\n",
    "    for i in range(1, n+1):\n",
    "        l = []\n",
    "        for j in range(1, i+1):\n",
    "            l.append(j**2)\n",
    "        print(*l)\n",
    "    for i in range(n-1, 0, -1):\n",
    "        l = []\n",
    "        for j in range(1, i+1):\n",
    "            l.append(j**2)\n",
    "        print(*l)\n",
    "n = int(input())\n",
    "pattern(n)"
   ]
  },
  {
   "cell_type": "code",
   "execution_count": 64,
   "metadata": {},
   "outputs": [
    {
     "name": "stdout",
     "output_type": "stream",
     "text": [
      "5\n",
      "*        *\n",
      "**      **\n",
      "***    ***\n",
      "****  ****\n",
      "**********\n",
      "**********\n",
      "****  ****\n",
      "***    ***\n",
      "**      **\n",
      "*        *\n"
     ]
    }
   ],
   "source": [
    "def pattern(n):\n",
    "    for i in range(1, n+1):\n",
    "        for j in range(i):\n",
    "            print('*', end = \"\")\n",
    "        for j in range(2*(n-i)):\n",
    "            print(' ', end = \"\")\n",
    "        for j in range(i):\n",
    "            print('*', end = \"\")\n",
    "            \n",
    "        print()\n",
    "    for i in range(n, 0, -1):\n",
    "        for j in range(i):\n",
    "            print('*', end = \"\")\n",
    "        for j in range(2*(n-i)):\n",
    "            print(' ', end = \"\")\n",
    "        for j in range(i):\n",
    "            print('*', end = \"\")\n",
    "            \n",
    "        print()\n",
    "n = int(input())\n",
    "pattern(n)"
   ]
  },
  {
   "cell_type": "code",
   "execution_count": 67,
   "metadata": {},
   "outputs": [
    {
     "name": "stdout",
     "output_type": "stream",
     "text": [
      "5\n",
      "999999999\n",
      " 7777777\n",
      "  55555\n",
      "   333\n",
      "    1\n"
     ]
    }
   ],
   "source": [
    "def pattern(n):\n",
    "    for i in range(n, 0, -1):\n",
    "        for j in range(n-i):\n",
    "            print(' ', end = \"\")\n",
    "        for j in range((2*i)-1):\n",
    "            print((2*i)-1, end = \"\")\n",
    "        print()\n",
    "        \n",
    "n = int(input())\n",
    "pattern(n)"
   ]
  },
  {
   "cell_type": "code",
   "execution_count": 82,
   "metadata": {},
   "outputs": [
    {
     "name": "stdout",
     "output_type": "stream",
     "text": [
      "5\n",
      "1       1\n",
      " 2     2\n",
      "  3   3\n",
      "   4 4\n",
      "    5\n",
      "   4 4\n",
      "  3   3\n",
      " 2     2\n",
      "1       1\n"
     ]
    }
   ],
   "source": [
    "def pattern(n):\n",
    "    for i in range(1, n+1):\n",
    "        for j in range(i-1):\n",
    "            print(' ', end = \"\")\n",
    "        print(i, end = \"\")\n",
    "        for j in range(2*(n-i)-1):\n",
    "            print(' ', end = \"\")            \n",
    "        if i != n: print(i)\n",
    "        else: print()\n",
    "    for i in range(n-1, 0, -1):\n",
    "        for j in range(i-1):\n",
    "            print(' ', end = \"\")\n",
    "        print(i, end = \"\")\n",
    "        for j in range(2*(n-i)-1):\n",
    "            print(' ', end = \"\")            \n",
    "        if i != n: print(i)\n",
    "        else: print()\n",
    "            \n",
    "n = int(input())\n",
    "pattern(n)"
   ]
  },
  {
   "cell_type": "code",
   "execution_count": 83,
   "metadata": {},
   "outputs": [
    {
     "name": "stdout",
     "output_type": "stream",
     "text": [
      "5\n",
      "12345\n",
      "2345\n",
      "345\n",
      "45\n",
      "5\n"
     ]
    }
   ],
   "source": [
    "def pattern(n):\n",
    "    for i in range(1, n+1):\n",
    "        for j in range(i, n+1):\n",
    "            print(j, end = \"\")\n",
    "        print()\n",
    "        \n",
    "n = int(input())\n",
    "pattern(n)"
   ]
  },
  {
   "cell_type": "code",
   "execution_count": 84,
   "metadata": {},
   "outputs": [
    {
     "name": "stdout",
     "output_type": "stream",
     "text": [
      "4\n",
      "   ****\n",
      "  *  *\n",
      " *  *\n",
      "****\n"
     ]
    }
   ],
   "source": [
    "def pattern(n):\n",
    "    for i in range(1, n+1):\n",
    "        for j in range(n-i):\n",
    "            print(' ', end = \"\")\n",
    "        if i == 1 or i == n: print('*' * n)\n",
    "        else:\n",
    "            s = '*'\n",
    "            s += ' ' * (n-2)\n",
    "            s += '*'\n",
    "            print(s)\n",
    "n = int(input())\n",
    "pattern(n)"
   ]
  },
  {
   "cell_type": "code",
   "execution_count": 86,
   "metadata": {},
   "outputs": [
    {
     "name": "stdout",
     "output_type": "stream",
     "text": [
      "5\n",
      "ABCDE\n",
      " ABCD\n",
      "  ABC\n",
      "   AB\n",
      "    A\n"
     ]
    }
   ],
   "source": [
    "def pattern(n):\n",
    "    for i in range(n):\n",
    "        for j in range(i):\n",
    "            print(' ', end = \"\")\n",
    "        for j in range(n-i):\n",
    "            print(chr(65+j), end = \"\")\n",
    "        print()\n",
    "n = int(input())\n",
    "pattern(n)"
   ]
  },
  {
   "cell_type": "code",
   "execution_count": 88,
   "metadata": {},
   "outputs": [
    {
     "name": "stdout",
     "output_type": "stream",
     "text": [
      "5\n",
      "EEEEE\n",
      " DDDD\n",
      "  CCC\n",
      "   BB\n",
      "    A\n"
     ]
    }
   ],
   "source": [
    "def pattern(n):\n",
    "    for i in range(n):\n",
    "        for j in range(i):\n",
    "            print(' ', end = \"\")\n",
    "        print(chr(65+n-i-1) * (n-i))\n",
    "        \n",
    "n = int(input())\n",
    "pattern(n)"
   ]
  },
  {
   "cell_type": "code",
   "execution_count": 90,
   "metadata": {},
   "outputs": [
    {
     "name": "stdout",
     "output_type": "stream",
     "text": [
      "5\n",
      "**********\n",
      "****  ****\n",
      "***    ***\n",
      "**      **\n",
      "*        *\n",
      "*        *\n",
      "**      **\n",
      "***    ***\n",
      "****  ****\n",
      "**********\n"
     ]
    }
   ],
   "source": [
    "def pattern(n):\n",
    "    for i in range(n, 0, -1):\n",
    "        for j in range(i):\n",
    "            print('*', end = \"\")\n",
    "        for j in range(2*(n-i)):\n",
    "            print(' ', end = \"\")\n",
    "        for j in range(i):\n",
    "            print('*', end = \"\")\n",
    "            \n",
    "        print()\n",
    "    for i in range(1, n+1):\n",
    "        for j in range(i):\n",
    "            print('*', end = \"\")\n",
    "        for j in range(2*(n-i)):\n",
    "            print(' ', end = \"\")\n",
    "        for j in range(i):\n",
    "            print('*', end = \"\")\n",
    "            \n",
    "        print()\n",
    "n = int(input())\n",
    "pattern(n)"
   ]
  },
  {
   "cell_type": "code",
   "execution_count": 91,
   "metadata": {},
   "outputs": [
    {
     "name": "stdout",
     "output_type": "stream",
     "text": [
      "8\n",
      "       A1\n",
      "      AB12\n",
      "     ABC123\n",
      "    ABCD1234\n",
      "   ABCDE12345\n",
      "  ABCDEF123456\n",
      " ABCDEFG1234567\n",
      "ABCDEFGH12345678\n"
     ]
    }
   ],
   "source": [
    "def pattern(n):\n",
    "    c = 64\n",
    "    for i in range(1, n+1):\n",
    "        for j in range(n-i):\n",
    "            print(' ', end = \"\")\n",
    "        for j in range(1, i+1):\n",
    "            print(chr(c+j), end = \"\")\n",
    "        for j in range(1, i+1):\n",
    "            print(j, end = \"\")\n",
    "        print()\n",
    "n = int(input())\n",
    "pattern(n)"
   ]
  },
  {
   "cell_type": "code",
   "execution_count": 92,
   "metadata": {},
   "outputs": [
    {
     "name": "stdout",
     "output_type": "stream",
     "text": [
      "5\n",
      "1\n",
      "2 4\n",
      "1 3 5\n",
      "2 4 6 8\n",
      "1 3 5 7 9\n"
     ]
    }
   ],
   "source": [
    "def pattern(n):\n",
    "    o = ['1']\n",
    "    e = ['2']\n",
    "    for i in range(1, n+1):\n",
    "        if i % 2 == 1:\n",
    "            print(*o)\n",
    "        else:\n",
    "            print(*e)\n",
    "        o.append(str(int(o[-1]) + 2))\n",
    "        e.append(str(int(e[-1]) + 2))\n",
    "            \n",
    "n = int(input())\n",
    "pattern(n)"
   ]
  },
  {
   "cell_type": "code",
   "execution_count": 94,
   "metadata": {},
   "outputs": [
    {
     "name": "stdout",
     "output_type": "stream",
     "text": [
      "5\n",
      "    A\n",
      "   BBB\n",
      "  CCCCC\n",
      " DDDDDDD\n",
      "EEEEEEEEE\n"
     ]
    }
   ],
   "source": [
    "def pattern(n):\n",
    "    c = 65\n",
    "    for i in range(n):\n",
    "        for j in range(n-i-1):\n",
    "            print(' ', end = \"\")\n",
    "        for j in range((2*i)+1):\n",
    "            print(chr(c+i), end = \"\")\n",
    "        print()\n",
    "n = int(input())\n",
    "pattern(n)"
   ]
  },
  {
   "cell_type": "code",
   "execution_count": 95,
   "metadata": {},
   "outputs": [
    {
     "name": "stdout",
     "output_type": "stream",
     "text": [
      "5\n",
      "55555\n",
      "4444\n",
      "333\n",
      "22\n",
      "1\n"
     ]
    }
   ],
   "source": [
    "def pattern(n):\n",
    "    for i in range(n, 0, -1):\n",
    "        l = []\n",
    "        for j in range(i):\n",
    "            l.append(str(i))\n",
    "        print(''.join(l))\n",
    "\n",
    "n = int(input())\n",
    "pattern(n)"
   ]
  },
  {
   "cell_type": "code",
   "execution_count": 98,
   "metadata": {},
   "outputs": [
    {
     "name": "stdout",
     "output_type": "stream",
     "text": [
      "5\n",
      "* * * * *\n",
      "* * * *\n",
      "* * *\n",
      "* *\n",
      "*\n"
     ]
    }
   ],
   "source": [
    "def pattern(n):\n",
    "    for i in range(n):\n",
    "        a = []\n",
    "        for j in range(n-i):\n",
    "            a.append('*')\n",
    "        print(' '.join(a))\n",
    "\n",
    "n = int(input())\n",
    "pattern(n)"
   ]
  },
  {
   "cell_type": "code",
   "execution_count": null,
   "metadata": {},
   "outputs": [],
   "source": []
  }
 ],
 "metadata": {
  "kernelspec": {
   "display_name": "Python 3",
   "language": "python",
   "name": "python3"
  },
  "language_info": {
   "codemirror_mode": {
    "name": "ipython",
    "version": 3
   },
   "file_extension": ".py",
   "mimetype": "text/x-python",
   "name": "python",
   "nbconvert_exporter": "python",
   "pygments_lexer": "ipython3",
   "version": "3.7.7"
  }
 },
 "nbformat": 4,
 "nbformat_minor": 2
}
